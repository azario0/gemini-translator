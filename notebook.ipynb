{
 "cells": [
  {
   "cell_type": "markdown",
   "id": "27303b2a",
   "metadata": {},
   "source": [
    "# The user selects a source language and a target language"
   ]
  },
  {
   "cell_type": "code",
   "execution_count": null,
   "id": "67079110",
   "metadata": {},
   "outputs": [
    {
     "name": "stdout",
     "output_type": "stream",
     "text": [
      "select a language : \n",
      "language selected : english\n",
      "language targer : arabic\n"
     ]
    }
   ],
   "source": [
    "print('select a language : ')\n",
    "\n",
    "languages = [\n",
    "    \"english\",\n",
    "    \"french\",\n",
    "    \"arabic\",\n",
    "    \"spanish\",\n",
    "    \"german\",\n",
    "    \"italian\",\n",
    "    \"portuguese\",\n",
    "    \"russian\",\n",
    "    \"chinese (simplified)\",\n",
    "    \"chinese (traditional)\",\n",
    "    \"japanese\",\n",
    "    \"korean\",\n",
    "    \"turkish\",\n",
    "    \"hindi\",\n",
    "    \"bengali\",\n",
    "    \"urdu\",\n",
    "    \"swahili\",\n",
    "    \"dutch\",\n",
    "    \"greek\",\n",
    "    \"polish\"\n",
    "]\n",
    "\n",
    "language_selected = languages[0]\n",
    "print(f'language selected : {language_selected}')\n",
    "\n",
    "language_target = languages[2]\n",
    "print(f'language targer : {language_target}')\n",
    "\n"
   ]
  },
  {
   "cell_type": "markdown",
   "id": "9573478d",
   "metadata": {},
   "source": [
    "# The user input the text to translate"
   ]
  },
  {
   "cell_type": "code",
   "execution_count": 11,
   "id": "634aaf9f",
   "metadata": {},
   "outputs": [],
   "source": [
    "user_text = \"Hello everyone ! i'm zohir from algeria !\""
   ]
  },
  {
   "cell_type": "markdown",
   "id": "48e76666",
   "metadata": {},
   "source": [
    "# setting up the gemini model"
   ]
  },
  {
   "cell_type": "code",
   "execution_count": null,
   "id": "89f61097",
   "metadata": {},
   "outputs": [],
   "source": [
    "import google.generativeai as genai\n",
    "\n",
    "# 1. Configure with your API key\n",
    "genai.configure(api_key=\"YOUR_API_KEY\")\n",
    "\n",
    "# 2. Create a model\n",
    "model = genai.GenerativeModel(\"gemini-1.5-flash\")  # you can also use gemini-1.5-pro etc.\n",
    "\n"
   ]
  },
  {
   "cell_type": "markdown",
   "id": "5f94e65f",
   "metadata": {},
   "source": [
    "# Prompt engeneering"
   ]
  },
  {
   "cell_type": "code",
   "execution_count": 13,
   "id": "510d1885",
   "metadata": {},
   "outputs": [],
   "source": [
    "# 3. Optimized prompt\n",
    "prompt = f\"\"\"\n",
    "You are a professional translator.\n",
    "\n",
    "Task:\n",
    "- Translate strictly from **{language_selected}** to **{language_target}**.\n",
    "- Do not explain, comment, or add anything else.\n",
    "- If the text is already in {language_target}, return it unchanged.\n",
    "- Ensure the translation is natural and context-appropriate.\n",
    "\n",
    "Text to translate:\n",
    "\\\"\\\"\\\"{user_text}\\\"\\\"\\\"\n",
    "\n",
    "Return only the translated text.\n",
    "\"\"\""
   ]
  },
  {
   "cell_type": "markdown",
   "id": "d438ba67",
   "metadata": {},
   "source": [
    "# Generating and printing the response"
   ]
  },
  {
   "cell_type": "code",
   "execution_count": 14,
   "id": "69ab56c6",
   "metadata": {},
   "outputs": [
    {
     "name": "stdout",
     "output_type": "stream",
     "text": [
      "مرحبا بالجميع! أنا زاهر من الجزائر!\n",
      "\n"
     ]
    }
   ],
   "source": [
    "# 3. Send a prompt\n",
    "response = model.generate_content(prompt)\n",
    "\n",
    "# 4. Print the output\n",
    "print(response.text)"
   ]
  },
  {
   "cell_type": "code",
   "execution_count": null,
   "id": "36b7eb90",
   "metadata": {},
   "outputs": [],
   "source": []
  }
 ],
 "metadata": {
  "kernelspec": {
   "display_name": "Python 3",
   "language": "python",
   "name": "python3"
  },
  "language_info": {
   "codemirror_mode": {
    "name": "ipython",
    "version": 3
   },
   "file_extension": ".py",
   "mimetype": "text/x-python",
   "name": "python",
   "nbconvert_exporter": "python",
   "pygments_lexer": "ipython3",
   "version": "3.12.3"
  }
 },
 "nbformat": 4,
 "nbformat_minor": 5
}
